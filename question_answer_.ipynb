{
  "nbformat": 4,
  "nbformat_minor": 0,
  "metadata": {
    "colab": {
      "provenance": [],
      "authorship_tag": "ABX9TyMxA9wgP3Ju47+suwzBArv3",
      "include_colab_link": true
    },
    "kernelspec": {
      "name": "python3",
      "display_name": "Python 3"
    },
    "language_info": {
      "name": "python"
    },
    "gpuClass": "standard"
  },
  "cells": [
    {
      "cell_type": "markdown",
      "metadata": {
        "id": "view-in-github",
        "colab_type": "text"
      },
      "source": [
        "<a href=\"https://colab.research.google.com/github/Dikshagupta1994/code-for-grid-search-cv/blob/main/question_answer_.ipynb\" target=\"_parent\"><img src=\"https://colab.research.google.com/assets/colab-badge.svg\" alt=\"Open In Colab\"/></a>"
      ]
    },
    {
      "cell_type": "code",
      "source": [
        "#BERT Fine-tuning and Prediction on SQUAD 2.0\n",
        "#BERT, or Bidirectional Embedding Representations from Transformers, is a new method of pre-training \n",
        "#language representations which obtains state-of-the-art results on a wide array of Natural Language Processing (NLP) tasks. \n",
        "#The academic paper can be found here"
      ],
      "metadata": {
        "id": "-_57p484EEhw"
      },
      "execution_count": 27,
      "outputs": []
    },
    {
      "cell_type": "code",
      "source": [
        "!pip install transformers==4.25.1"
      ],
      "metadata": {
        "colab": {
          "base_uri": "https://localhost:8080/"
        },
        "id": "IapwVLZCBP7Y",
        "outputId": "33082549-ddda-4691-b956-5ea56271e858"
      },
      "execution_count": 30,
      "outputs": [
        {
          "output_type": "stream",
          "name": "stdout",
          "text": [
            "Looking in indexes: https://pypi.org/simple, https://us-python.pkg.dev/colab-wheels/public/simple/\n",
            "Requirement already satisfied: transformers==4.25.1 in /usr/local/lib/python3.9/dist-packages (4.25.1)\n",
            "Requirement already satisfied: huggingface-hub<1.0,>=0.10.0 in /usr/local/lib/python3.9/dist-packages (from transformers==4.25.1) (0.13.2)\n",
            "Requirement already satisfied: filelock in /usr/local/lib/python3.9/dist-packages (from transformers==4.25.1) (3.9.0)\n",
            "Requirement already satisfied: packaging>=20.0 in /usr/local/lib/python3.9/dist-packages (from transformers==4.25.1) (23.0)\n",
            "Requirement already satisfied: numpy>=1.17 in /usr/local/lib/python3.9/dist-packages (from transformers==4.25.1) (1.22.4)\n",
            "Requirement already satisfied: requests in /usr/local/lib/python3.9/dist-packages (from transformers==4.25.1) (2.25.1)\n",
            "Requirement already satisfied: tokenizers!=0.11.3,<0.14,>=0.11.1 in /usr/local/lib/python3.9/dist-packages (from transformers==4.25.1) (0.13.2)\n",
            "Requirement already satisfied: regex!=2019.12.17 in /usr/local/lib/python3.9/dist-packages (from transformers==4.25.1) (2022.6.2)\n",
            "Requirement already satisfied: pyyaml>=5.1 in /usr/local/lib/python3.9/dist-packages (from transformers==4.25.1) (6.0)\n",
            "Requirement already satisfied: tqdm>=4.27 in /usr/local/lib/python3.9/dist-packages (from transformers==4.25.1) (4.65.0)\n",
            "Requirement already satisfied: typing-extensions>=3.7.4.3 in /usr/local/lib/python3.9/dist-packages (from huggingface-hub<1.0,>=0.10.0->transformers==4.25.1) (4.5.0)\n",
            "Requirement already satisfied: chardet<5,>=3.0.2 in /usr/local/lib/python3.9/dist-packages (from requests->transformers==4.25.1) (4.0.0)\n",
            "Requirement already satisfied: idna<3,>=2.5 in /usr/local/lib/python3.9/dist-packages (from requests->transformers==4.25.1) (2.10)\n",
            "Requirement already satisfied: urllib3<1.27,>=1.21.1 in /usr/local/lib/python3.9/dist-packages (from requests->transformers==4.25.1) (1.26.15)\n",
            "Requirement already satisfied: certifi>=2017.4.17 in /usr/local/lib/python3.9/dist-packages (from requests->transformers==4.25.1) (2022.12.7)\n"
          ]
        }
      ]
    },
    {
      "cell_type": "code",
      "source": [
        "#download the libraries\n",
        "import pandas as pd\n",
        "import numpy as np\n",
        "import matplotlib.pyplot as plt\n",
        "import seaborn as sns\n",
        "import torch\n",
        "from transformers import BertForQuestionAnswering\n",
        "from transformers import BertTokenizer"
      ],
      "metadata": {
        "id": "l4E9q-HOBWSr"
      },
      "execution_count": 31,
      "outputs": []
    },
    {
      "cell_type": "code",
      "source": [
        "SQuAD = pd.read_json('https://rajpurkar.github.io/SQuAD-explorer/dataset/train-v2.0.json')\n",
        "SQuAD.head()"
      ],
      "metadata": {
        "colab": {
          "base_uri": "https://localhost:8080/",
          "height": 206
        },
        "id": "sDnRhqiHBaaE",
        "outputId": "0912b6c6-e3bf-4e2e-b989-22b4e864a8f7"
      },
      "execution_count": 32,
      "outputs": [
        {
          "output_type": "execute_result",
          "data": {
            "text/plain": [
              "  version                                               data\n",
              "0    v2.0  {'title': 'Beyoncé', 'paragraphs': [{'qas': [{...\n",
              "1    v2.0  {'title': 'Frédéric_Chopin', 'paragraphs': [{'...\n",
              "2    v2.0  {'title': 'Sino-Tibetan_relations_during_the_M...\n",
              "3    v2.0  {'title': 'IPod', 'paragraphs': [{'qas': [{'qu...\n",
              "4    v2.0  {'title': 'The_Legend_of_Zelda:_Twilight_Princ..."
            ],
            "text/html": [
              "\n",
              "  <div id=\"df-7a0fe8b6-81c4-40ed-81b7-6e8041d6b9de\">\n",
              "    <div class=\"colab-df-container\">\n",
              "      <div>\n",
              "<style scoped>\n",
              "    .dataframe tbody tr th:only-of-type {\n",
              "        vertical-align: middle;\n",
              "    }\n",
              "\n",
              "    .dataframe tbody tr th {\n",
              "        vertical-align: top;\n",
              "    }\n",
              "\n",
              "    .dataframe thead th {\n",
              "        text-align: right;\n",
              "    }\n",
              "</style>\n",
              "<table border=\"1\" class=\"dataframe\">\n",
              "  <thead>\n",
              "    <tr style=\"text-align: right;\">\n",
              "      <th></th>\n",
              "      <th>version</th>\n",
              "      <th>data</th>\n",
              "    </tr>\n",
              "  </thead>\n",
              "  <tbody>\n",
              "    <tr>\n",
              "      <th>0</th>\n",
              "      <td>v2.0</td>\n",
              "      <td>{'title': 'Beyoncé', 'paragraphs': [{'qas': [{...</td>\n",
              "    </tr>\n",
              "    <tr>\n",
              "      <th>1</th>\n",
              "      <td>v2.0</td>\n",
              "      <td>{'title': 'Frédéric_Chopin', 'paragraphs': [{'...</td>\n",
              "    </tr>\n",
              "    <tr>\n",
              "      <th>2</th>\n",
              "      <td>v2.0</td>\n",
              "      <td>{'title': 'Sino-Tibetan_relations_during_the_M...</td>\n",
              "    </tr>\n",
              "    <tr>\n",
              "      <th>3</th>\n",
              "      <td>v2.0</td>\n",
              "      <td>{'title': 'IPod', 'paragraphs': [{'qas': [{'qu...</td>\n",
              "    </tr>\n",
              "    <tr>\n",
              "      <th>4</th>\n",
              "      <td>v2.0</td>\n",
              "      <td>{'title': 'The_Legend_of_Zelda:_Twilight_Princ...</td>\n",
              "    </tr>\n",
              "  </tbody>\n",
              "</table>\n",
              "</div>\n",
              "      <button class=\"colab-df-convert\" onclick=\"convertToInteractive('df-7a0fe8b6-81c4-40ed-81b7-6e8041d6b9de')\"\n",
              "              title=\"Convert this dataframe to an interactive table.\"\n",
              "              style=\"display:none;\">\n",
              "        \n",
              "  <svg xmlns=\"http://www.w3.org/2000/svg\" height=\"24px\"viewBox=\"0 0 24 24\"\n",
              "       width=\"24px\">\n",
              "    <path d=\"M0 0h24v24H0V0z\" fill=\"none\"/>\n",
              "    <path d=\"M18.56 5.44l.94 2.06.94-2.06 2.06-.94-2.06-.94-.94-2.06-.94 2.06-2.06.94zm-11 1L8.5 8.5l.94-2.06 2.06-.94-2.06-.94L8.5 2.5l-.94 2.06-2.06.94zm10 10l.94 2.06.94-2.06 2.06-.94-2.06-.94-.94-2.06-.94 2.06-2.06.94z\"/><path d=\"M17.41 7.96l-1.37-1.37c-.4-.4-.92-.59-1.43-.59-.52 0-1.04.2-1.43.59L10.3 9.45l-7.72 7.72c-.78.78-.78 2.05 0 2.83L4 21.41c.39.39.9.59 1.41.59.51 0 1.02-.2 1.41-.59l7.78-7.78 2.81-2.81c.8-.78.8-2.07 0-2.86zM5.41 20L4 18.59l7.72-7.72 1.47 1.35L5.41 20z\"/>\n",
              "  </svg>\n",
              "      </button>\n",
              "      \n",
              "  <style>\n",
              "    .colab-df-container {\n",
              "      display:flex;\n",
              "      flex-wrap:wrap;\n",
              "      gap: 12px;\n",
              "    }\n",
              "\n",
              "    .colab-df-convert {\n",
              "      background-color: #E8F0FE;\n",
              "      border: none;\n",
              "      border-radius: 50%;\n",
              "      cursor: pointer;\n",
              "      display: none;\n",
              "      fill: #1967D2;\n",
              "      height: 32px;\n",
              "      padding: 0 0 0 0;\n",
              "      width: 32px;\n",
              "    }\n",
              "\n",
              "    .colab-df-convert:hover {\n",
              "      background-color: #E2EBFA;\n",
              "      box-shadow: 0px 1px 2px rgba(60, 64, 67, 0.3), 0px 1px 3px 1px rgba(60, 64, 67, 0.15);\n",
              "      fill: #174EA6;\n",
              "    }\n",
              "\n",
              "    [theme=dark] .colab-df-convert {\n",
              "      background-color: #3B4455;\n",
              "      fill: #D2E3FC;\n",
              "    }\n",
              "\n",
              "    [theme=dark] .colab-df-convert:hover {\n",
              "      background-color: #434B5C;\n",
              "      box-shadow: 0px 1px 3px 1px rgba(0, 0, 0, 0.15);\n",
              "      filter: drop-shadow(0px 1px 2px rgba(0, 0, 0, 0.3));\n",
              "      fill: #FFFFFF;\n",
              "    }\n",
              "  </style>\n",
              "\n",
              "      <script>\n",
              "        const buttonEl =\n",
              "          document.querySelector('#df-7a0fe8b6-81c4-40ed-81b7-6e8041d6b9de button.colab-df-convert');\n",
              "        buttonEl.style.display =\n",
              "          google.colab.kernel.accessAllowed ? 'block' : 'none';\n",
              "\n",
              "        async function convertToInteractive(key) {\n",
              "          const element = document.querySelector('#df-7a0fe8b6-81c4-40ed-81b7-6e8041d6b9de');\n",
              "          const dataTable =\n",
              "            await google.colab.kernel.invokeFunction('convertToInteractive',\n",
              "                                                     [key], {});\n",
              "          if (!dataTable) return;\n",
              "\n",
              "          const docLinkHtml = 'Like what you see? Visit the ' +\n",
              "            '<a target=\"_blank\" href=https://colab.research.google.com/notebooks/data_table.ipynb>data table notebook</a>'\n",
              "            + ' to learn more about interactive tables.';\n",
              "          element.innerHTML = '';\n",
              "          dataTable['output_type'] = 'display_data';\n",
              "          await google.colab.output.renderOutput(dataTable, element);\n",
              "          const docLink = document.createElement('div');\n",
              "          docLink.innerHTML = docLinkHtml;\n",
              "          element.appendChild(docLink);\n",
              "        }\n",
              "      </script>\n",
              "    </div>\n",
              "  </div>\n",
              "  "
            ]
          },
          "metadata": {},
          "execution_count": 32
        }
      ]
    },
    {
      "cell_type": "code",
      "source": [
        "del SQuAD[\"version\"]"
      ],
      "metadata": {
        "id": "AF8994B5BdIP"
      },
      "execution_count": 33,
      "outputs": []
    },
    {
      "cell_type": "code",
      "source": [
        "#convert into csv format\n",
        "cols = [\"text\",\"question\",\"answer\"]\n",
        "\n",
        "comp_list = []\n",
        "for index, row in SQuAD.iterrows():\n",
        "    for i in range(len(row['data']['paragraphs'])):\n",
        "        for j in (row['data']['paragraphs'][i]['qas']):\n",
        "            temp_list = []\n",
        "            temp_list.append((row[\"data\"][\"paragraphs\"][i][\"context\"]))\n",
        "            temp_list.append(j['question'])\n",
        "            if j[\"answers\"]:\n",
        "                temp_list.append(j[\"answers\"][0][\"text\"])\n",
        "            else:\n",
        "                temp_list.append(\"\")\n",
        "        comp_list.append(temp_list)\n",
        "new_df = pd.DataFrame(comp_list, columns=cols)"
      ],
      "metadata": {
        "id": "wiqbeC_-BjYn"
      },
      "execution_count": 34,
      "outputs": []
    },
    {
      "cell_type": "code",
      "source": [
        "new_df.to_csv(\"SQuAD_data.csv\", index=False)"
      ],
      "metadata": {
        "id": "t_p2qA8hBpbh"
      },
      "execution_count": 35,
      "outputs": []
    },
    {
      "cell_type": "code",
      "source": [
        "data = pd.read_csv(\"SQuAD_data.csv\")\n",
        "data.head()"
      ],
      "metadata": {
        "colab": {
          "base_uri": "https://localhost:8080/",
          "height": 206
        },
        "id": "o42HoSUmBsRl",
        "outputId": "2c908dc6-e1d7-4879-8aa1-b252b246b0f0"
      },
      "execution_count": 36,
      "outputs": [
        {
          "output_type": "execute_result",
          "data": {
            "text/plain": [
              "                                                text  \\\n",
              "0  Beyoncé Giselle Knowles-Carter (/biːˈjɒnseɪ/ b...   \n",
              "1  Following the disbandment of Destiny's Child i...   \n",
              "2  A self-described \"modern-day feminist\", Beyonc...   \n",
              "3  Beyoncé Giselle Knowles was born in Houston, T...   \n",
              "4  Beyoncé attended St. Mary's Elementary School ...   \n",
              "\n",
              "                                            question  \\\n",
              "0   What was the name of Beyoncé's first solo album?   \n",
              "1           What is the name of Beyoncé's alter-ego?   \n",
              "2  What magazine named Beyoncé as the most powerf...   \n",
              "3               Beyoncé was raised in what religion?   \n",
              "4      What choir did Beyoncé sing in for two years?   \n",
              "\n",
              "                               answer  \n",
              "0                 Dangerously in Love  \n",
              "1                        Sasha Fierce  \n",
              "2                              Forbes  \n",
              "3                           Methodist  \n",
              "4  St. John's United Methodist Church  "
            ],
            "text/html": [
              "\n",
              "  <div id=\"df-42b0f9a5-06c3-4c69-a289-430baedb8d0b\">\n",
              "    <div class=\"colab-df-container\">\n",
              "      <div>\n",
              "<style scoped>\n",
              "    .dataframe tbody tr th:only-of-type {\n",
              "        vertical-align: middle;\n",
              "    }\n",
              "\n",
              "    .dataframe tbody tr th {\n",
              "        vertical-align: top;\n",
              "    }\n",
              "\n",
              "    .dataframe thead th {\n",
              "        text-align: right;\n",
              "    }\n",
              "</style>\n",
              "<table border=\"1\" class=\"dataframe\">\n",
              "  <thead>\n",
              "    <tr style=\"text-align: right;\">\n",
              "      <th></th>\n",
              "      <th>text</th>\n",
              "      <th>question</th>\n",
              "      <th>answer</th>\n",
              "    </tr>\n",
              "  </thead>\n",
              "  <tbody>\n",
              "    <tr>\n",
              "      <th>0</th>\n",
              "      <td>Beyoncé Giselle Knowles-Carter (/biːˈjɒnseɪ/ b...</td>\n",
              "      <td>What was the name of Beyoncé's first solo album?</td>\n",
              "      <td>Dangerously in Love</td>\n",
              "    </tr>\n",
              "    <tr>\n",
              "      <th>1</th>\n",
              "      <td>Following the disbandment of Destiny's Child i...</td>\n",
              "      <td>What is the name of Beyoncé's alter-ego?</td>\n",
              "      <td>Sasha Fierce</td>\n",
              "    </tr>\n",
              "    <tr>\n",
              "      <th>2</th>\n",
              "      <td>A self-described \"modern-day feminist\", Beyonc...</td>\n",
              "      <td>What magazine named Beyoncé as the most powerf...</td>\n",
              "      <td>Forbes</td>\n",
              "    </tr>\n",
              "    <tr>\n",
              "      <th>3</th>\n",
              "      <td>Beyoncé Giselle Knowles was born in Houston, T...</td>\n",
              "      <td>Beyoncé was raised in what religion?</td>\n",
              "      <td>Methodist</td>\n",
              "    </tr>\n",
              "    <tr>\n",
              "      <th>4</th>\n",
              "      <td>Beyoncé attended St. Mary's Elementary School ...</td>\n",
              "      <td>What choir did Beyoncé sing in for two years?</td>\n",
              "      <td>St. John's United Methodist Church</td>\n",
              "    </tr>\n",
              "  </tbody>\n",
              "</table>\n",
              "</div>\n",
              "      <button class=\"colab-df-convert\" onclick=\"convertToInteractive('df-42b0f9a5-06c3-4c69-a289-430baedb8d0b')\"\n",
              "              title=\"Convert this dataframe to an interactive table.\"\n",
              "              style=\"display:none;\">\n",
              "        \n",
              "  <svg xmlns=\"http://www.w3.org/2000/svg\" height=\"24px\"viewBox=\"0 0 24 24\"\n",
              "       width=\"24px\">\n",
              "    <path d=\"M0 0h24v24H0V0z\" fill=\"none\"/>\n",
              "    <path d=\"M18.56 5.44l.94 2.06.94-2.06 2.06-.94-2.06-.94-.94-2.06-.94 2.06-2.06.94zm-11 1L8.5 8.5l.94-2.06 2.06-.94-2.06-.94L8.5 2.5l-.94 2.06-2.06.94zm10 10l.94 2.06.94-2.06 2.06-.94-2.06-.94-.94-2.06-.94 2.06-2.06.94z\"/><path d=\"M17.41 7.96l-1.37-1.37c-.4-.4-.92-.59-1.43-.59-.52 0-1.04.2-1.43.59L10.3 9.45l-7.72 7.72c-.78.78-.78 2.05 0 2.83L4 21.41c.39.39.9.59 1.41.59.51 0 1.02-.2 1.41-.59l7.78-7.78 2.81-2.81c.8-.78.8-2.07 0-2.86zM5.41 20L4 18.59l7.72-7.72 1.47 1.35L5.41 20z\"/>\n",
              "  </svg>\n",
              "      </button>\n",
              "      \n",
              "  <style>\n",
              "    .colab-df-container {\n",
              "      display:flex;\n",
              "      flex-wrap:wrap;\n",
              "      gap: 12px;\n",
              "    }\n",
              "\n",
              "    .colab-df-convert {\n",
              "      background-color: #E8F0FE;\n",
              "      border: none;\n",
              "      border-radius: 50%;\n",
              "      cursor: pointer;\n",
              "      display: none;\n",
              "      fill: #1967D2;\n",
              "      height: 32px;\n",
              "      padding: 0 0 0 0;\n",
              "      width: 32px;\n",
              "    }\n",
              "\n",
              "    .colab-df-convert:hover {\n",
              "      background-color: #E2EBFA;\n",
              "      box-shadow: 0px 1px 2px rgba(60, 64, 67, 0.3), 0px 1px 3px 1px rgba(60, 64, 67, 0.15);\n",
              "      fill: #174EA6;\n",
              "    }\n",
              "\n",
              "    [theme=dark] .colab-df-convert {\n",
              "      background-color: #3B4455;\n",
              "      fill: #D2E3FC;\n",
              "    }\n",
              "\n",
              "    [theme=dark] .colab-df-convert:hover {\n",
              "      background-color: #434B5C;\n",
              "      box-shadow: 0px 1px 3px 1px rgba(0, 0, 0, 0.15);\n",
              "      filter: drop-shadow(0px 1px 2px rgba(0, 0, 0, 0.3));\n",
              "      fill: #FFFFFF;\n",
              "    }\n",
              "  </style>\n",
              "\n",
              "      <script>\n",
              "        const buttonEl =\n",
              "          document.querySelector('#df-42b0f9a5-06c3-4c69-a289-430baedb8d0b button.colab-df-convert');\n",
              "        buttonEl.style.display =\n",
              "          google.colab.kernel.accessAllowed ? 'block' : 'none';\n",
              "\n",
              "        async function convertToInteractive(key) {\n",
              "          const element = document.querySelector('#df-42b0f9a5-06c3-4c69-a289-430baedb8d0b');\n",
              "          const dataTable =\n",
              "            await google.colab.kernel.invokeFunction('convertToInteractive',\n",
              "                                                     [key], {});\n",
              "          if (!dataTable) return;\n",
              "\n",
              "          const docLinkHtml = 'Like what you see? Visit the ' +\n",
              "            '<a target=\"_blank\" href=https://colab.research.google.com/notebooks/data_table.ipynb>data table notebook</a>'\n",
              "            + ' to learn more about interactive tables.';\n",
              "          element.innerHTML = '';\n",
              "          dataTable['output_type'] = 'display_data';\n",
              "          await google.colab.output.renderOutput(dataTable, element);\n",
              "          const docLink = document.createElement('div');\n",
              "          docLink.innerHTML = docLinkHtml;\n",
              "          element.appendChild(docLink);\n",
              "        }\n",
              "      </script>\n",
              "    </div>\n",
              "  </div>\n",
              "  "
            ]
          },
          "metadata": {},
          "execution_count": 36
        }
      ]
    },
    {
      "cell_type": "code",
      "source": [
        "print(\"Number of question and answers: \", len(data))"
      ],
      "metadata": {
        "colab": {
          "base_uri": "https://localhost:8080/"
        },
        "id": "4W29oA2tBvtt",
        "outputId": "a871b820-f039-4293-9077-67842d475bbb"
      },
      "execution_count": 37,
      "outputs": [
        {
          "output_type": "stream",
          "name": "stdout",
          "text": [
            "Number of question and answers:  19035\n"
          ]
        }
      ]
    },
    {
      "cell_type": "code",
      "source": [
        "#Download the BERT PRETRAINED MODEL\n",
        "model = BertForQuestionAnswering.from_pretrained('bert-large-uncased-whole-word-masking-finetuned-squad')\n",
        "tokenizer = BertTokenizer.from_pretrained('bert-large-uncased-whole-word-masking-finetuned-squad')"
      ],
      "metadata": {
        "id": "ue_q4Zo_By0U"
      },
      "execution_count": 40,
      "outputs": []
    },
    {
      "cell_type": "code",
      "source": [
        "random_num = np.random.randint(0,len(data))\n",
        "\n",
        "question = data[\"question\"][random_num]\n",
        "text = data[\"text\"][random_num]"
      ],
      "metadata": {
        "id": "06eJ4xchB7qM"
      },
      "execution_count": 41,
      "outputs": []
    },
    {
      "cell_type": "code",
      "source": [
        "print(question, \"\\n\", text)"
      ],
      "metadata": {
        "colab": {
          "base_uri": "https://localhost:8080/"
        },
        "id": "RHB_68HQB-5-",
        "outputId": "fd341b9d-931a-42cc-e652-63dcaa3d3211"
      },
      "execution_count": 42,
      "outputs": [
        {
          "output_type": "stream",
          "name": "stdout",
          "text": [
            "What did Baltica collide with to form the equator? \n",
            " The British Isles lie at the juncture of several regions with past episodes of tectonic mountain building. These orogenic belts form a complex geology that records a huge and varied span of Earth's history. Of particular note was the Caledonian Orogeny during the Ordovician Period, c. 488–444 Ma and early Silurian period, when the craton Baltica collided with the terrane Avalonia to form the mountains and hills in northern Britain and Ireland. Baltica formed roughly the northwestern half of Ireland and Scotland. Further collisions caused the Variscan orogeny in the Devonian and Carboniferous periods, forming the hills of Munster, southwest England, and southern Wales. Over the last 500 million years the land that forms the islands has drifted northwest from around 30°S, crossing the equator around 370 million years ago to reach its present northern latitude.\n"
          ]
        }
      ]
    },
    {
      "cell_type": "code",
      "source": [
        "#toknies our data\n",
        "input_ids = tokenizer.encode(question, text)\n",
        "print(\"The input has a total of {} tokens.\".format(len(input_ids)))"
      ],
      "metadata": {
        "colab": {
          "base_uri": "https://localhost:8080/"
        },
        "id": "GPUHXOy_CB7j",
        "outputId": "aa1c49d8-90be-415f-9b33-43b28e7e6ac1"
      },
      "execution_count": 43,
      "outputs": [
        {
          "output_type": "stream",
          "name": "stdout",
          "text": [
            "The input has a total of 192 tokens.\n"
          ]
        }
      ]
    },
    {
      "cell_type": "code",
      "source": [
        "#tokens and their id\n",
        "tokens = tokenizer.convert_ids_to_tokens(input_ids)\n",
        "\n",
        "for token, id in zip(tokens, input_ids):\n",
        "    print('{:8}{:8,}'.format(token,id))"
      ],
      "metadata": {
        "colab": {
          "base_uri": "https://localhost:8080/"
        },
        "id": "SW61pzPACWEy",
        "outputId": "a874f99f-c5c7-42f8-bcd4-40ac28197837"
      },
      "execution_count": 44,
      "outputs": [
        {
          "output_type": "stream",
          "name": "stdout",
          "text": [
            "[CLS]        101\n",
            "what       2,054\n",
            "did        2,106\n",
            "baltic    11,275\n",
            "##a        2,050\n",
            "col        8,902\n",
            "##lide    24,198\n",
            "with       2,007\n",
            "to         2,000\n",
            "form       2,433\n",
            "the        1,996\n",
            "equator   26,640\n",
            "?          1,029\n",
            "[SEP]        102\n",
            "the        1,996\n",
            "british    2,329\n",
            "isles     14,195\n",
            "lie        4,682\n",
            "at         2,012\n",
            "the        1,996\n",
            "jun       12,022\n",
            "##cture   14,890\n",
            "of         1,997\n",
            "several    2,195\n",
            "regions    4,655\n",
            "with       2,007\n",
            "past       2,627\n",
            "episodes   4,178\n",
            "of         1,997\n",
            "te         8,915\n",
            "##cton    28,312\n",
            "##ic       2,594\n",
            "mountain   3,137\n",
            "building   2,311\n",
            ".          1,012\n",
            "these      2,122\n",
            "oro       20,298\n",
            "##genic   16,505\n",
            "belts     18,000\n",
            "form       2,433\n",
            "a          1,037\n",
            "complex    3,375\n",
            "geology   13,404\n",
            "that       2,008\n",
            "records    2,636\n",
            "a          1,037\n",
            "huge       4,121\n",
            "and        1,998\n",
            "varied     9,426\n",
            "span       8,487\n",
            "of         1,997\n",
            "earth      3,011\n",
            "'          1,005\n",
            "s          1,055\n",
            "history    2,381\n",
            ".          1,012\n",
            "of         1,997\n",
            "particular   3,327\n",
            "note       3,602\n",
            "was        2,001\n",
            "the        1,996\n",
            "caledonian  27,449\n",
            "oro       20,298\n",
            "##geny    17,487\n",
            "during     2,076\n",
            "the        1,996\n",
            "or         2,030\n",
            "##do       3,527\n",
            "##vic      7,903\n",
            "##ian      2,937\n",
            "period     2,558\n",
            ",          1,010\n",
            "c          1,039\n",
            ".          1,012\n",
            "48         4,466\n",
            "##8        2,620\n",
            "–          1,516\n",
            "44         4,008\n",
            "##4        2,549\n",
            "ma         5,003\n",
            "and        1,998\n",
            "early      2,220\n",
            "si         9,033\n",
            "##lu       7,630\n",
            "##rian     6,862\n",
            "period     2,558\n",
            ",          1,010\n",
            "when       2,043\n",
            "the        1,996\n",
            "cr        13,675\n",
            "##aton    22,436\n",
            "baltic    11,275\n",
            "##a        2,050\n",
            "collided  17,745\n",
            "with       2,007\n",
            "the        1,996\n",
            "terra     14,403\n",
            "##ne       2,638\n",
            "avalon    18,973\n",
            "##ia       2,401\n",
            "to         2,000\n",
            "form       2,433\n",
            "the        1,996\n",
            "mountains   4,020\n",
            "and        1,998\n",
            "hills      4,564\n",
            "in         1,999\n",
            "northern   2,642\n",
            "britain    3,725\n",
            "and        1,998\n",
            "ireland    3,163\n",
            ".          1,012\n",
            "baltic    11,275\n",
            "##a        2,050\n",
            "formed     2,719\n",
            "roughly    5,560\n",
            "the        1,996\n",
            "northwestern   7,855\n",
            "half       2,431\n",
            "of         1,997\n",
            "ireland    3,163\n",
            "and        1,998\n",
            "scotland   3,885\n",
            ".          1,012\n",
            "further    2,582\n",
            "collisions  28,820\n",
            "caused     3,303\n",
            "the        1,996\n",
            "var       13,075\n",
            "##is       2,483\n",
            "##can      9,336\n",
            "oro       20,298\n",
            "##geny    17,487\n",
            "in         1,999\n",
            "the        1,996\n",
            "devon      7,614\n",
            "##ian      2,937\n",
            "and        1,998\n",
            "carbon     6,351\n",
            "##iferous  23,930\n",
            "periods    6,993\n",
            ",          1,010\n",
            "forming    5,716\n",
            "the        1,996\n",
            "hills      4,564\n",
            "of         1,997\n",
            "munster   11,348\n",
            ",          1,010\n",
            "southwest   4,943\n",
            "england    2,563\n",
            ",          1,010\n",
            "and        1,998\n",
            "southern   2,670\n",
            "wales      3,575\n",
            ".          1,012\n",
            "over       2,058\n",
            "the        1,996\n",
            "last       2,197\n",
            "500        3,156\n",
            "million    2,454\n",
            "years      2,086\n",
            "the        1,996\n",
            "land       2,455\n",
            "that       2,008\n",
            "forms      3,596\n",
            "the        1,996\n",
            "islands    3,470\n",
            "has        2,038\n",
            "drifted   10,070\n",
            "northwest   4,514\n",
            "from       2,013\n",
            "around     2,105\n",
            "30         2,382\n",
            "##°        7,737\n",
            "##s        2,015\n",
            ",          1,010\n",
            "crossing   5,153\n",
            "the        1,996\n",
            "equator   26,640\n",
            "around     2,105\n",
            "370       16,444\n",
            "million    2,454\n",
            "years      2,086\n",
            "ago        3,283\n",
            "to         2,000\n",
            "reach      3,362\n",
            "its        2,049\n",
            "present    2,556\n",
            "northern   2,642\n",
            "latitude  15,250\n",
            ".          1,012\n",
            "[SEP]        102\n"
          ]
        }
      ]
    },
    {
      "cell_type": "code",
      "source": [
        "#first occurence of [SEP] token\n",
        "sep_idx = input_ids.index(tokenizer.sep_token_id)\n",
        "print(sep_idx)\n",
        "\n",
        "#number of tokens in segment A - question\n",
        "num_seg_a = sep_idx+1\n",
        "print(num_seg_a)\n",
        "\n",
        "#number of tokens in segment B - text\n",
        "num_seg_b = len(input_ids) - num_seg_a\n",
        "print(num_seg_b)\n",
        "\n",
        "segment_ids = [0]*num_seg_a + [1]*num_seg_b\n",
        "print(segment_ids)\n",
        "\n",
        "assert len(segment_ids) == len(input_ids)"
      ],
      "metadata": {
        "colab": {
          "base_uri": "https://localhost:8080/"
        },
        "id": "zS0py81RCby0",
        "outputId": "194dbb7b-c279-42a6-ae9a-e823e86afbc0"
      },
      "execution_count": 45,
      "outputs": [
        {
          "output_type": "stream",
          "name": "stdout",
          "text": [
            "13\n",
            "14\n",
            "178\n",
            "[0, 0, 0, 0, 0, 0, 0, 0, 0, 0, 0, 0, 0, 0, 1, 1, 1, 1, 1, 1, 1, 1, 1, 1, 1, 1, 1, 1, 1, 1, 1, 1, 1, 1, 1, 1, 1, 1, 1, 1, 1, 1, 1, 1, 1, 1, 1, 1, 1, 1, 1, 1, 1, 1, 1, 1, 1, 1, 1, 1, 1, 1, 1, 1, 1, 1, 1, 1, 1, 1, 1, 1, 1, 1, 1, 1, 1, 1, 1, 1, 1, 1, 1, 1, 1, 1, 1, 1, 1, 1, 1, 1, 1, 1, 1, 1, 1, 1, 1, 1, 1, 1, 1, 1, 1, 1, 1, 1, 1, 1, 1, 1, 1, 1, 1, 1, 1, 1, 1, 1, 1, 1, 1, 1, 1, 1, 1, 1, 1, 1, 1, 1, 1, 1, 1, 1, 1, 1, 1, 1, 1, 1, 1, 1, 1, 1, 1, 1, 1, 1, 1, 1, 1, 1, 1, 1, 1, 1, 1, 1, 1, 1, 1, 1, 1, 1, 1, 1, 1, 1, 1, 1, 1, 1, 1, 1, 1, 1, 1, 1, 1, 1, 1, 1, 1, 1, 1, 1, 1, 1, 1, 1]\n"
          ]
        }
      ]
    },
    {
      "cell_type": "code",
      "source": [
        "#token input_ids to represent the input\n",
        "#token segment_ids to differentiate our segments - text and question \n",
        "output = model(torch.tensor([input_ids]), token_type_ids=torch.tensor([segment_ids]))\n",
        "#print(output.start_logits, output.end_logits)"
      ],
      "metadata": {
        "id": "ZOzgv_lHCeNo"
      },
      "execution_count": 46,
      "outputs": []
    },
    {
      "cell_type": "code",
      "source": [
        "#tokens with highest start and end scores\n",
        "answer_start = torch.argmax(output.start_logits)\n",
        "answer_end = torch.argmax(output.end_logits)\n",
        "#print(answer_start, answer_end)"
      ],
      "metadata": {
        "id": "x3nupPJgCiuF"
      },
      "execution_count": 47,
      "outputs": []
    },
    {
      "cell_type": "code",
      "source": [
        "if answer_end >= answer_start:\n",
        "    answer = \" \".join(tokens[answer_start:answer_end+1])\n",
        "else:\n",
        "    print(\"I am unable to find the answer to this question. Can you please ask another question?\")\n",
        "    \n",
        "print(\"Text:\\n{}\".format(text.capitalize()))\n",
        "print(\"\\nQuestion:\\n{}\".format(question.capitalize()))\n",
        "print(\"\\nAnswer:\\n{}.\".format(answer.capitalize()))"
      ],
      "metadata": {
        "colab": {
          "base_uri": "https://localhost:8080/"
        },
        "id": "524qzHn_Cn4h",
        "outputId": "b39f7c83-faa2-4f8a-fd4c-df82b10696bb"
      },
      "execution_count": 48,
      "outputs": [
        {
          "output_type": "stream",
          "name": "stdout",
          "text": [
            "Text:\n",
            "The british isles lie at the juncture of several regions with past episodes of tectonic mountain building. these orogenic belts form a complex geology that records a huge and varied span of earth's history. of particular note was the caledonian orogeny during the ordovician period, c. 488–444 ma and early silurian period, when the craton baltica collided with the terrane avalonia to form the mountains and hills in northern britain and ireland. baltica formed roughly the northwestern half of ireland and scotland. further collisions caused the variscan orogeny in the devonian and carboniferous periods, forming the hills of munster, southwest england, and southern wales. over the last 500 million years the land that forms the islands has drifted northwest from around 30°s, crossing the equator around 370 million years ago to reach its present northern latitude.\n",
            "\n",
            "Question:\n",
            "What did baltica collide with to form the equator?\n",
            "\n",
            "Answer:\n",
            "Terra ##ne avalon ##ia.\n"
          ]
        }
      ]
    },
    {
      "cell_type": "code",
      "source": [
        "#Code to join the broken words\n",
        "answer = tokens[answer_start]\n",
        "\n",
        "for i in range(answer_start+1, answer_end+1):\n",
        "    if tokens[i][0:2] == \"##\":\n",
        "        answer += tokens[i][2:]\n",
        "    else:\n",
        "        answer += \" \" + tokens[i]"
      ],
      "metadata": {
        "id": "8RC-VqBFCt7H"
      },
      "execution_count": 49,
      "outputs": []
    },
    {
      "cell_type": "code",
      "source": [
        "def question_answer(question, text):\n",
        "    \n",
        "    #tokenize question and text in ids as a pair\n",
        "    input_ids = tokenizer.encode(question, text)\n",
        "    \n",
        "    #string version of tokenized ids\n",
        "    tokens = tokenizer.convert_ids_to_tokens(input_ids)\n",
        "    \n",
        "    #segment IDs\n",
        "    #first occurence of [SEP] token\n",
        "    sep_idx = input_ids.index(tokenizer.sep_token_id)\n",
        "\n",
        "    #number of tokens in segment A - question\n",
        "    num_seg_a = sep_idx+1\n",
        "\n",
        "    #number of tokens in segment B - text\n",
        "    num_seg_b = len(input_ids) - num_seg_a\n",
        "    \n",
        "    #list of 0s and 1s\n",
        "    segment_ids = [0]*num_seg_a + [1]*num_seg_b\n",
        "    \n",
        "    assert len(segment_ids) == len(input_ids)\n",
        "    \n",
        "    #model output using input_ids and segment_ids\n",
        "    output = model(torch.tensor([input_ids]), token_type_ids=torch.tensor([segment_ids]))\n",
        "    \n",
        "    #reconstructing the answer\n",
        "    answer_start = torch.argmax(output.start_logits)\n",
        "    answer_end = torch.argmax(output.end_logits)\n",
        "\n",
        "    if answer_end >= answer_start:\n",
        "        answer = tokens[answer_start]\n",
        "        for i in range(answer_start+1, answer_end+1):\n",
        "            if tokens[i][0:2] == \"##\":\n",
        "                answer = \"\"\n",
        "            else:\n",
        "                answer += \" \" + tokens[i]\n",
        "                \n",
        "    if answer.startswith(\"[CLS]\"):\n",
        "        answer = \"Unable to find the answer to your question.\"\n",
        "    \n",
        "#     print(\"Text:\\n{}\".format(text.capitalize()))\n",
        "#     print(\"\\nQuestion:\\n{}\".format(question.capitalize()))\n",
        "    print(\"\\nAnswer:\\n{}\".format(answer.capitalize()))"
      ],
      "metadata": {
        "id": "Jtisj9rDC8Az"
      },
      "execution_count": 50,
      "outputs": []
    },
    {
      "cell_type": "code",
      "source": [
        "text = \"\"\"New York (CNN) -- More than 80 Michael Jackson collectibles -- including the late pop star's famous rhinestone-studded glove from a 1983 performance -- were auctioned off Saturday, reaping a total $2 million. Profits from the auction at the Hard Rock Cafe in New York's Times Square crushed pre-sale expectations of only $120,000 in sales. The highly prized memorabilia, which included items spanning the many stages of Jackson's career, came from more than 30 fans, associates and family members, who contacted Julien's Auctions to sell their gifts and mementos of the singer. Jackson's flashy glove was the big-ticket item of the night, fetching $420,000 from a buyer in Hong Kong, China. Jackson wore the glove at a 1983 performance during \\\"Motown 25,\\\" an NBC special where he debuted his revolutionary moonwalk. Fellow Motown star Walter \\\"Clyde\\\" Orange of the Commodores, who also performed in the special 26 years ago, said he asked for Jackson's autograph at the time, but Jackson gave him the glove instead. \"The legacy that [Jackson] left behind is bigger than life for me,\\\" Orange said. \\\"I hope that through that glove people can see what he was trying to say in his music and what he said in his music.\\\" Orange said he plans to give a portion of the proceeds to charity. Hoffman Ma, who bought the glove on behalf of Ponte 16 Resort in Macau, paid a 25 percent buyer's premium, which was tacked onto all final sales over $50,000. Winners of items less than $50,000 paid a 20 percent premium.\"\"\"\n",
        "question = \"Where was the Auction held?\"\n",
        "\n",
        "question_answer(question, text)"
      ],
      "metadata": {
        "colab": {
          "base_uri": "https://localhost:8080/"
        },
        "id": "IUEsk6WlDI0g",
        "outputId": "9e909f53-9dd9-46c5-fa4e-9548d343c241"
      },
      "execution_count": 51,
      "outputs": [
        {
          "output_type": "stream",
          "name": "stdout",
          "text": [
            "\n",
            "Answer:\n",
            "Hard rock cafe in new york ' s times square\n"
          ]
        }
      ]
    },
    {
      "cell_type": "code",
      "source": [
        "#Playing with the chatbot"
      ],
      "metadata": {
        "id": "FxelcokWDPhK"
      },
      "execution_count": 25,
      "outputs": []
    },
    {
      "cell_type": "code",
      "source": [
        "text = input(\"Please enter your text: \\n\")\n",
        "question = input(\"\\nPlease enter your question: \\n\")\n",
        "\n",
        "while True:\n",
        "    question_answer(question, text)\n",
        "    \n",
        "    flag = True\n",
        "    flag_N = False\n",
        "    \n",
        "    while flag:\n",
        "        response = input(\"\\nDo you want to ask another question based on this text (Y/N)? \")\n",
        "        if response[0] == \"Y\":\n",
        "            question = input(\"\\nPlease enter your question: \\n\")\n",
        "            flag = False\n",
        "        elif response[0] == \"N\":\n",
        "            print(\"\\nBye!\")\n",
        "            flag = False\n",
        "            flag_N = True\n",
        "            \n",
        "    if flag_N == True:\n",
        "        break"
      ],
      "metadata": {
        "colab": {
          "base_uri": "https://localhost:8080/"
        },
        "id": "Ll6aSl5GGcJ6",
        "outputId": "6b56e08b-4ffa-4f74-952f-51ca7abf2c88"
      },
      "execution_count": 53,
      "outputs": [
        {
          "output_type": "stream",
          "name": "stdout",
          "text": [
            "Please enter your text: \n",
            "New York (CNN) -- More than 80 Michael Jackson collectibles -- including the late pop star's famous rhinestone-studded glove from a 1983 performance -- were auctioned off Saturday, reaping a total $2 million. Profits from the auction at the Hard Rock Cafe in New York's Times Square crushed pre-sale expectations of only $120,000 in sales. The highly prized memorabilia, which included items spanning the many stages of Jackson's career, came from more than 30 fans, associates and family members, who contacted Julien's Auctions to sell their gifts and mementos of the singer. Jackson's flashy glove was the big-ticket item of the night, fetching $420,000 from a buyer in Hong Kong, China. Jackson wore the glove at a 1983 performance during \\\"Motown 25,\\\" an NBC special where he debuted his revolutionary moonwalk. Fellow Motown star Walter \\\"Clyde\\\" Orange of the Commodores, who also performed in the special 26 years ago, said he asked for Jackson's autograph at the time, but Jackson gave him the glove instead. \"The legacy that [Jackson] left behind is bigger than life for me,\\\" Orange said. \\\"I hope that through that glove people can see what he was trying to say in his music and what he said in his music.\\\" Orange said he plans to give a portion of the proceeds to charity. Hoffman Ma, who bought the glove on behalf of Ponte 16 Resort in Macau, paid a 25 percent buyer's premium, which was tacked onto all final sales over $50,000. Winners of items less than $50,000 paid a 20 percent premium.\n",
            "\n",
            "Please enter your question: \n",
            "when was auction held?\n",
            "\n",
            "Answer:\n",
            "Saturday\n",
            "\n",
            "Do you want to ask another question based on this text (Y/N)? Y\n",
            "\n",
            "Please enter your question: \n",
            "where was auction held?\n",
            "\n",
            "Answer:\n",
            "Hard rock cafe in new york ' s times square\n",
            "\n",
            "Do you want to ask another question based on this text (Y/N)? Y\n",
            "\n",
            "Please enter your question: \n",
            "Who bought the glove?\n",
            "\n",
            "Answer:\n",
            "Hoffman ma\n",
            "\n",
            "Do you want to ask another question based on this text (Y/N)? N\n",
            "\n",
            "Bye!\n"
          ]
        }
      ]
    }
  ]
}